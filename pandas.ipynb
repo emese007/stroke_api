{
 "cells": [
  {
   "cell_type": "markdown",
   "id": "af3c03d2",
   "metadata": {},
   "source": [
    "## Exemple d'utilisation de pandas"
   ]
  },
  {
   "cell_type": "code",
   "execution_count": 14,
   "id": "9e7a7d33",
   "metadata": {},
   "outputs": [],
   "source": [
    "import pandas as pd"
   ]
  },
  {
   "cell_type": "code",
   "execution_count": 15,
   "id": "c3b56072",
   "metadata": {},
   "outputs": [],
   "source": [
    "liste_nom = [\"Marwa\",\n",
    "\"Samy\",\n",
    "\"Matthis\",\n",
    "\"Saleh\",\n",
    "\"Gaëtan\",\n",
    "\"Nabil\",\n",
    "\"Loïc\",\n",
    "\"Chaima\",\n",
    "\"Emese\",\n",
    "\"Fadilatou\",\n",
    "\"Thibaud\",\n",
    "\"Kyrylo\"]\n",
    "\n",
    "trip = {\n",
    "    'nom': liste_nom,\n",
    "    'destination': ['Montpellier', 'Paris', 'Bordeaux', 'Toulouse', 'Paris', 'Montpellier', 'Bordeaux', 'Paris', 'Montpellier', 'Bordeaux', 'Paris', \"Montpellier\"],\n",
    "    'duree': [10, 7, 12, 5, 14, 6, 10, 11, 2, 3, 10, 15],\n",
    "    'transport': ['train', 'voiture', 'covoiturage', 'bus', 'bus', 'train', 'covoiturage', 'voiture', \"covoiturage\", \"voiture\", \"voiture\", \"voiture\"]\n",
    "}\n",
    "\n",
    "df = pd.DataFrame(trip)\n",
    "\n",
    "# Définition de la colonne nom pour l'index - sinon index défini par défault 0 --> n (n=nombre de lignes)\n",
    "df.set_index(\"nom\", inplace=True)"
   ]
  },
  {
   "cell_type": "code",
   "execution_count": 16,
   "id": "a7231863",
   "metadata": {},
   "outputs": [
    {
     "data": {
      "text/html": [
       "<div>\n",
       "<style scoped>\n",
       "    .dataframe tbody tr th:only-of-type {\n",
       "        vertical-align: middle;\n",
       "    }\n",
       "\n",
       "    .dataframe tbody tr th {\n",
       "        vertical-align: top;\n",
       "    }\n",
       "\n",
       "    .dataframe thead th {\n",
       "        text-align: right;\n",
       "    }\n",
       "</style>\n",
       "<table border=\"1\" class=\"dataframe\">\n",
       "  <thead>\n",
       "    <tr style=\"text-align: right;\">\n",
       "      <th></th>\n",
       "      <th>destination</th>\n",
       "      <th>duree</th>\n",
       "      <th>transport</th>\n",
       "    </tr>\n",
       "    <tr>\n",
       "      <th>nom</th>\n",
       "      <th></th>\n",
       "      <th></th>\n",
       "      <th></th>\n",
       "    </tr>\n",
       "  </thead>\n",
       "  <tbody>\n",
       "    <tr>\n",
       "      <th>Marwa</th>\n",
       "      <td>Montpellier</td>\n",
       "      <td>10</td>\n",
       "      <td>train</td>\n",
       "    </tr>\n",
       "    <tr>\n",
       "      <th>Samy</th>\n",
       "      <td>Paris</td>\n",
       "      <td>7</td>\n",
       "      <td>voiture</td>\n",
       "    </tr>\n",
       "    <tr>\n",
       "      <th>Matthis</th>\n",
       "      <td>Bordeaux</td>\n",
       "      <td>12</td>\n",
       "      <td>covoiturage</td>\n",
       "    </tr>\n",
       "    <tr>\n",
       "      <th>Saleh</th>\n",
       "      <td>Toulouse</td>\n",
       "      <td>5</td>\n",
       "      <td>bus</td>\n",
       "    </tr>\n",
       "    <tr>\n",
       "      <th>Gaëtan</th>\n",
       "      <td>Paris</td>\n",
       "      <td>14</td>\n",
       "      <td>bus</td>\n",
       "    </tr>\n",
       "    <tr>\n",
       "      <th>Nabil</th>\n",
       "      <td>Montpellier</td>\n",
       "      <td>6</td>\n",
       "      <td>train</td>\n",
       "    </tr>\n",
       "    <tr>\n",
       "      <th>Loïc</th>\n",
       "      <td>Bordeaux</td>\n",
       "      <td>10</td>\n",
       "      <td>covoiturage</td>\n",
       "    </tr>\n",
       "    <tr>\n",
       "      <th>Chaima</th>\n",
       "      <td>Paris</td>\n",
       "      <td>11</td>\n",
       "      <td>voiture</td>\n",
       "    </tr>\n",
       "    <tr>\n",
       "      <th>Emese</th>\n",
       "      <td>Montpellier</td>\n",
       "      <td>2</td>\n",
       "      <td>covoiturage</td>\n",
       "    </tr>\n",
       "    <tr>\n",
       "      <th>Fadilatou</th>\n",
       "      <td>Bordeaux</td>\n",
       "      <td>3</td>\n",
       "      <td>voiture</td>\n",
       "    </tr>\n",
       "    <tr>\n",
       "      <th>Thibaud</th>\n",
       "      <td>Paris</td>\n",
       "      <td>10</td>\n",
       "      <td>voiture</td>\n",
       "    </tr>\n",
       "    <tr>\n",
       "      <th>Kyrylo</th>\n",
       "      <td>Montpellier</td>\n",
       "      <td>15</td>\n",
       "      <td>voiture</td>\n",
       "    </tr>\n",
       "  </tbody>\n",
       "</table>\n",
       "</div>"
      ],
      "text/plain": [
       "           destination  duree    transport\n",
       "nom                                       \n",
       "Marwa      Montpellier     10        train\n",
       "Samy             Paris      7      voiture\n",
       "Matthis       Bordeaux     12  covoiturage\n",
       "Saleh         Toulouse      5          bus\n",
       "Gaëtan           Paris     14          bus\n",
       "Nabil      Montpellier      6        train\n",
       "Loïc          Bordeaux     10  covoiturage\n",
       "Chaima           Paris     11      voiture\n",
       "Emese      Montpellier      2  covoiturage\n",
       "Fadilatou     Bordeaux      3      voiture\n",
       "Thibaud          Paris     10      voiture\n",
       "Kyrylo     Montpellier     15      voiture"
      ]
     },
     "execution_count": 16,
     "metadata": {},
     "output_type": "execute_result"
    }
   ],
   "source": [
    "df"
   ]
  },
  {
   "cell_type": "markdown",
   "id": "77f7d23b",
   "metadata": {},
   "source": [
    "**dataframe** : Tableau qui contient des colonnes, des lignes, un index \n",
    "\n",
    "### 1. Accès aux données"
   ]
  },
  {
   "cell_type": "code",
   "execution_count": 17,
   "id": "2fa9e548",
   "metadata": {},
   "outputs": [
    {
     "data": {
      "text/plain": [
       "Index(['destination', 'duree', 'transport'], dtype='object')"
      ]
     },
     "execution_count": 17,
     "metadata": {},
     "output_type": "execute_result"
    }
   ],
   "source": [
    "# liste des colonnes\n",
    "df.columns"
   ]
  },
  {
   "cell_type": "code",
   "execution_count": 18,
   "id": "71c5f2c9",
   "metadata": {},
   "outputs": [
    {
     "data": {
      "text/plain": [
       "Index(['Marwa', 'Samy', 'Matthis', 'Saleh', 'Gaëtan', 'Nabil', 'Loïc',\n",
       "       'Chaima', 'Emese', 'Fadilatou', 'Thibaud', 'Kyrylo'],\n",
       "      dtype='object', name='nom')"
      ]
     },
     "execution_count": 18,
     "metadata": {},
     "output_type": "execute_result"
    }
   ],
   "source": [
    "# liste des index\n",
    "df.index"
   ]
  },
  {
   "cell_type": "code",
   "execution_count": 19,
   "id": "0520f1a7",
   "metadata": {},
   "outputs": [
    {
     "data": {
      "text/plain": [
       "nom\n",
       "Marwa        Montpellier\n",
       "Samy               Paris\n",
       "Matthis         Bordeaux\n",
       "Saleh           Toulouse\n",
       "Gaëtan             Paris\n",
       "Nabil        Montpellier\n",
       "Loïc            Bordeaux\n",
       "Chaima             Paris\n",
       "Emese        Montpellier\n",
       "Fadilatou       Bordeaux\n",
       "Thibaud            Paris\n",
       "Kyrylo       Montpellier\n",
       "Name: destination, dtype: object"
      ]
     },
     "execution_count": 19,
     "metadata": {},
     "output_type": "execute_result"
    }
   ],
   "source": [
    "# accès à une colonne\n",
    "df[\"destination\"]"
   ]
  },
  {
   "cell_type": "code",
   "execution_count": 20,
   "id": "ac97b442",
   "metadata": {},
   "outputs": [
    {
     "data": {
      "text/plain": [
       "pandas.core.series.Series"
      ]
     },
     "execution_count": 20,
     "metadata": {},
     "output_type": "execute_result"
    }
   ],
   "source": [
    "type(df[\"destination\"])"
   ]
  },
  {
   "cell_type": "markdown",
   "id": "dcb77963",
   "metadata": {},
   "source": [
    ".loc[ligne, colonne] : accès aux données via les noms d'index / noms de colonnes\n",
    "\n",
    "Syntaxe :\n",
    "\n",
    "`df.loc[ligne, colonne] avec les noms des index et des colonnes`"
   ]
  },
  {
   "cell_type": "code",
   "execution_count": 21,
   "id": "121602d4",
   "metadata": {},
   "outputs": [
    {
     "data": {
      "text/plain": [
       "destination    Montpellier\n",
       "duree                    2\n",
       "transport      covoiturage\n",
       "Name: Emese, dtype: object"
      ]
     },
     "execution_count": 21,
     "metadata": {},
     "output_type": "execute_result"
    }
   ],
   "source": [
    "df.loc[\"Emese\"]"
   ]
  },
  {
   "cell_type": "code",
   "execution_count": 22,
   "id": "442c759f",
   "metadata": {},
   "outputs": [
    {
     "data": {
      "text/html": [
       "<div>\n",
       "<style scoped>\n",
       "    .dataframe tbody tr th:only-of-type {\n",
       "        vertical-align: middle;\n",
       "    }\n",
       "\n",
       "    .dataframe tbody tr th {\n",
       "        vertical-align: top;\n",
       "    }\n",
       "\n",
       "    .dataframe thead th {\n",
       "        text-align: right;\n",
       "    }\n",
       "</style>\n",
       "<table border=\"1\" class=\"dataframe\">\n",
       "  <thead>\n",
       "    <tr style=\"text-align: right;\">\n",
       "      <th></th>\n",
       "      <th>destination</th>\n",
       "      <th>duree</th>\n",
       "    </tr>\n",
       "    <tr>\n",
       "      <th>nom</th>\n",
       "      <th></th>\n",
       "      <th></th>\n",
       "    </tr>\n",
       "  </thead>\n",
       "  <tbody>\n",
       "    <tr>\n",
       "      <th>Loïc</th>\n",
       "      <td>Bordeaux</td>\n",
       "      <td>10</td>\n",
       "    </tr>\n",
       "    <tr>\n",
       "      <th>Emese</th>\n",
       "      <td>Montpellier</td>\n",
       "      <td>2</td>\n",
       "    </tr>\n",
       "  </tbody>\n",
       "</table>\n",
       "</div>"
      ],
      "text/plain": [
       "       destination  duree\n",
       "nom                      \n",
       "Loïc      Bordeaux     10\n",
       "Emese  Montpellier      2"
      ]
     },
     "execution_count": 22,
     "metadata": {},
     "output_type": "execute_result"
    }
   ],
   "source": [
    "df.loc[[\"Loïc\", \"Emese\"], [\"destination\", \"duree\"]]"
   ]
  },
  {
   "cell_type": "markdown",
   "id": "86eaedd0",
   "metadata": {},
   "source": [
    ".iloc[ligne, colonne] : accès aux données via les indexes (**ATTENTION** : _Deprecated since version 2.2.0_ --> utiliser plutôt le .loc)"
   ]
  },
  {
   "cell_type": "code",
   "execution_count": 23,
   "id": "1fd4ad40",
   "metadata": {},
   "outputs": [
    {
     "data": {
      "text/html": [
       "<div>\n",
       "<style scoped>\n",
       "    .dataframe tbody tr th:only-of-type {\n",
       "        vertical-align: middle;\n",
       "    }\n",
       "\n",
       "    .dataframe tbody tr th {\n",
       "        vertical-align: top;\n",
       "    }\n",
       "\n",
       "    .dataframe thead th {\n",
       "        text-align: right;\n",
       "    }\n",
       "</style>\n",
       "<table border=\"1\" class=\"dataframe\">\n",
       "  <thead>\n",
       "    <tr style=\"text-align: right;\">\n",
       "      <th></th>\n",
       "      <th>duree</th>\n",
       "      <th>transport</th>\n",
       "    </tr>\n",
       "    <tr>\n",
       "      <th>nom</th>\n",
       "      <th></th>\n",
       "      <th></th>\n",
       "    </tr>\n",
       "  </thead>\n",
       "  <tbody>\n",
       "    <tr>\n",
       "      <th>Marwa</th>\n",
       "      <td>10</td>\n",
       "      <td>train</td>\n",
       "    </tr>\n",
       "    <tr>\n",
       "      <th>Samy</th>\n",
       "      <td>7</td>\n",
       "      <td>voiture</td>\n",
       "    </tr>\n",
       "    <tr>\n",
       "      <th>Matthis</th>\n",
       "      <td>12</td>\n",
       "      <td>covoiturage</td>\n",
       "    </tr>\n",
       "    <tr>\n",
       "      <th>Saleh</th>\n",
       "      <td>5</td>\n",
       "      <td>bus</td>\n",
       "    </tr>\n",
       "    <tr>\n",
       "      <th>Gaëtan</th>\n",
       "      <td>14</td>\n",
       "      <td>bus</td>\n",
       "    </tr>\n",
       "    <tr>\n",
       "      <th>Nabil</th>\n",
       "      <td>6</td>\n",
       "      <td>train</td>\n",
       "    </tr>\n",
       "    <tr>\n",
       "      <th>Loïc</th>\n",
       "      <td>10</td>\n",
       "      <td>covoiturage</td>\n",
       "    </tr>\n",
       "    <tr>\n",
       "      <th>Chaima</th>\n",
       "      <td>11</td>\n",
       "      <td>voiture</td>\n",
       "    </tr>\n",
       "    <tr>\n",
       "      <th>Emese</th>\n",
       "      <td>2</td>\n",
       "      <td>covoiturage</td>\n",
       "    </tr>\n",
       "    <tr>\n",
       "      <th>Fadilatou</th>\n",
       "      <td>3</td>\n",
       "      <td>voiture</td>\n",
       "    </tr>\n",
       "    <tr>\n",
       "      <th>Thibaud</th>\n",
       "      <td>10</td>\n",
       "      <td>voiture</td>\n",
       "    </tr>\n",
       "    <tr>\n",
       "      <th>Kyrylo</th>\n",
       "      <td>15</td>\n",
       "      <td>voiture</td>\n",
       "    </tr>\n",
       "  </tbody>\n",
       "</table>\n",
       "</div>"
      ],
      "text/plain": [
       "           duree    transport\n",
       "nom                          \n",
       "Marwa         10        train\n",
       "Samy           7      voiture\n",
       "Matthis       12  covoiturage\n",
       "Saleh          5          bus\n",
       "Gaëtan        14          bus\n",
       "Nabil          6        train\n",
       "Loïc          10  covoiturage\n",
       "Chaima        11      voiture\n",
       "Emese          2  covoiturage\n",
       "Fadilatou      3      voiture\n",
       "Thibaud       10      voiture\n",
       "Kyrylo        15      voiture"
      ]
     },
     "execution_count": 23,
     "metadata": {},
     "output_type": "execute_result"
    }
   ],
   "source": [
    "df.iloc[:, [1,2]]"
   ]
  },
  {
   "cell_type": "markdown",
   "id": "6824895f",
   "metadata": {},
   "source": [
    "### 2. Calcul moyenne, min, max etc sur une colonne"
   ]
  },
  {
   "cell_type": "code",
   "execution_count": 24,
   "id": "25af6509",
   "metadata": {},
   "outputs": [
    {
     "data": {
      "text/plain": [
       "np.int64(12)"
      ]
     },
     "execution_count": 24,
     "metadata": {},
     "output_type": "execute_result"
    }
   ],
   "source": [
    "# moyenne de la colonne\n",
    "df[\"duree\"].mean()\n",
    "# somme de la colonne\n",
    "df[\"duree\"].sum()\n",
    "# médiane de la colonne\n",
    "df[\"duree\"].median()\n",
    "# nb de valeur de la colonne\n",
    "df[\"duree\"].count()"
   ]
  },
  {
   "cell_type": "markdown",
   "id": "260219ea",
   "metadata": {},
   "source": [
    "### 3. Tri des valeurs"
   ]
  },
  {
   "cell_type": "code",
   "execution_count": 25,
   "id": "2f82472d",
   "metadata": {},
   "outputs": [
    {
     "data": {
      "text/html": [
       "<div>\n",
       "<style scoped>\n",
       "    .dataframe tbody tr th:only-of-type {\n",
       "        vertical-align: middle;\n",
       "    }\n",
       "\n",
       "    .dataframe tbody tr th {\n",
       "        vertical-align: top;\n",
       "    }\n",
       "\n",
       "    .dataframe thead th {\n",
       "        text-align: right;\n",
       "    }\n",
       "</style>\n",
       "<table border=\"1\" class=\"dataframe\">\n",
       "  <thead>\n",
       "    <tr style=\"text-align: right;\">\n",
       "      <th></th>\n",
       "      <th>destination</th>\n",
       "      <th>duree</th>\n",
       "      <th>transport</th>\n",
       "    </tr>\n",
       "    <tr>\n",
       "      <th>nom</th>\n",
       "      <th></th>\n",
       "      <th></th>\n",
       "      <th></th>\n",
       "    </tr>\n",
       "  </thead>\n",
       "  <tbody>\n",
       "    <tr>\n",
       "      <th>Emese</th>\n",
       "      <td>Montpellier</td>\n",
       "      <td>2</td>\n",
       "      <td>covoiturage</td>\n",
       "    </tr>\n",
       "    <tr>\n",
       "      <th>Fadilatou</th>\n",
       "      <td>Bordeaux</td>\n",
       "      <td>3</td>\n",
       "      <td>voiture</td>\n",
       "    </tr>\n",
       "    <tr>\n",
       "      <th>Saleh</th>\n",
       "      <td>Toulouse</td>\n",
       "      <td>5</td>\n",
       "      <td>bus</td>\n",
       "    </tr>\n",
       "    <tr>\n",
       "      <th>Nabil</th>\n",
       "      <td>Montpellier</td>\n",
       "      <td>6</td>\n",
       "      <td>train</td>\n",
       "    </tr>\n",
       "    <tr>\n",
       "      <th>Samy</th>\n",
       "      <td>Paris</td>\n",
       "      <td>7</td>\n",
       "      <td>voiture</td>\n",
       "    </tr>\n",
       "    <tr>\n",
       "      <th>Marwa</th>\n",
       "      <td>Montpellier</td>\n",
       "      <td>10</td>\n",
       "      <td>train</td>\n",
       "    </tr>\n",
       "    <tr>\n",
       "      <th>Loïc</th>\n",
       "      <td>Bordeaux</td>\n",
       "      <td>10</td>\n",
       "      <td>covoiturage</td>\n",
       "    </tr>\n",
       "    <tr>\n",
       "      <th>Thibaud</th>\n",
       "      <td>Paris</td>\n",
       "      <td>10</td>\n",
       "      <td>voiture</td>\n",
       "    </tr>\n",
       "    <tr>\n",
       "      <th>Chaima</th>\n",
       "      <td>Paris</td>\n",
       "      <td>11</td>\n",
       "      <td>voiture</td>\n",
       "    </tr>\n",
       "    <tr>\n",
       "      <th>Matthis</th>\n",
       "      <td>Bordeaux</td>\n",
       "      <td>12</td>\n",
       "      <td>covoiturage</td>\n",
       "    </tr>\n",
       "    <tr>\n",
       "      <th>Gaëtan</th>\n",
       "      <td>Paris</td>\n",
       "      <td>14</td>\n",
       "      <td>bus</td>\n",
       "    </tr>\n",
       "    <tr>\n",
       "      <th>Kyrylo</th>\n",
       "      <td>Montpellier</td>\n",
       "      <td>15</td>\n",
       "      <td>voiture</td>\n",
       "    </tr>\n",
       "  </tbody>\n",
       "</table>\n",
       "</div>"
      ],
      "text/plain": [
       "           destination  duree    transport\n",
       "nom                                       \n",
       "Emese      Montpellier      2  covoiturage\n",
       "Fadilatou     Bordeaux      3      voiture\n",
       "Saleh         Toulouse      5          bus\n",
       "Nabil      Montpellier      6        train\n",
       "Samy             Paris      7      voiture\n",
       "Marwa      Montpellier     10        train\n",
       "Loïc          Bordeaux     10  covoiturage\n",
       "Thibaud          Paris     10      voiture\n",
       "Chaima           Paris     11      voiture\n",
       "Matthis       Bordeaux     12  covoiturage\n",
       "Gaëtan           Paris     14          bus\n",
       "Kyrylo     Montpellier     15      voiture"
      ]
     },
     "execution_count": 25,
     "metadata": {},
     "output_type": "execute_result"
    }
   ],
   "source": [
    "df.sort_values(by=\"duree\")"
   ]
  },
  {
   "cell_type": "code",
   "execution_count": 26,
   "id": "3be0ebdb",
   "metadata": {},
   "outputs": [
    {
     "data": {
      "text/html": [
       "<div>\n",
       "<style scoped>\n",
       "    .dataframe tbody tr th:only-of-type {\n",
       "        vertical-align: middle;\n",
       "    }\n",
       "\n",
       "    .dataframe tbody tr th {\n",
       "        vertical-align: top;\n",
       "    }\n",
       "\n",
       "    .dataframe thead th {\n",
       "        text-align: right;\n",
       "    }\n",
       "</style>\n",
       "<table border=\"1\" class=\"dataframe\">\n",
       "  <thead>\n",
       "    <tr style=\"text-align: right;\">\n",
       "      <th></th>\n",
       "      <th>destination</th>\n",
       "      <th>duree</th>\n",
       "      <th>transport</th>\n",
       "    </tr>\n",
       "    <tr>\n",
       "      <th>nom</th>\n",
       "      <th></th>\n",
       "      <th></th>\n",
       "      <th></th>\n",
       "    </tr>\n",
       "  </thead>\n",
       "  <tbody>\n",
       "    <tr>\n",
       "      <th>Kyrylo</th>\n",
       "      <td>Montpellier</td>\n",
       "      <td>15</td>\n",
       "      <td>voiture</td>\n",
       "    </tr>\n",
       "    <tr>\n",
       "      <th>Gaëtan</th>\n",
       "      <td>Paris</td>\n",
       "      <td>14</td>\n",
       "      <td>bus</td>\n",
       "    </tr>\n",
       "    <tr>\n",
       "      <th>Matthis</th>\n",
       "      <td>Bordeaux</td>\n",
       "      <td>12</td>\n",
       "      <td>covoiturage</td>\n",
       "    </tr>\n",
       "    <tr>\n",
       "      <th>Chaima</th>\n",
       "      <td>Paris</td>\n",
       "      <td>11</td>\n",
       "      <td>voiture</td>\n",
       "    </tr>\n",
       "    <tr>\n",
       "      <th>Marwa</th>\n",
       "      <td>Montpellier</td>\n",
       "      <td>10</td>\n",
       "      <td>train</td>\n",
       "    </tr>\n",
       "    <tr>\n",
       "      <th>Loïc</th>\n",
       "      <td>Bordeaux</td>\n",
       "      <td>10</td>\n",
       "      <td>covoiturage</td>\n",
       "    </tr>\n",
       "    <tr>\n",
       "      <th>Thibaud</th>\n",
       "      <td>Paris</td>\n",
       "      <td>10</td>\n",
       "      <td>voiture</td>\n",
       "    </tr>\n",
       "    <tr>\n",
       "      <th>Samy</th>\n",
       "      <td>Paris</td>\n",
       "      <td>7</td>\n",
       "      <td>voiture</td>\n",
       "    </tr>\n",
       "    <tr>\n",
       "      <th>Nabil</th>\n",
       "      <td>Montpellier</td>\n",
       "      <td>6</td>\n",
       "      <td>train</td>\n",
       "    </tr>\n",
       "    <tr>\n",
       "      <th>Saleh</th>\n",
       "      <td>Toulouse</td>\n",
       "      <td>5</td>\n",
       "      <td>bus</td>\n",
       "    </tr>\n",
       "    <tr>\n",
       "      <th>Fadilatou</th>\n",
       "      <td>Bordeaux</td>\n",
       "      <td>3</td>\n",
       "      <td>voiture</td>\n",
       "    </tr>\n",
       "    <tr>\n",
       "      <th>Emese</th>\n",
       "      <td>Montpellier</td>\n",
       "      <td>2</td>\n",
       "      <td>covoiturage</td>\n",
       "    </tr>\n",
       "  </tbody>\n",
       "</table>\n",
       "</div>"
      ],
      "text/plain": [
       "           destination  duree    transport\n",
       "nom                                       \n",
       "Kyrylo     Montpellier     15      voiture\n",
       "Gaëtan           Paris     14          bus\n",
       "Matthis       Bordeaux     12  covoiturage\n",
       "Chaima           Paris     11      voiture\n",
       "Marwa      Montpellier     10        train\n",
       "Loïc          Bordeaux     10  covoiturage\n",
       "Thibaud          Paris     10      voiture\n",
       "Samy             Paris      7      voiture\n",
       "Nabil      Montpellier      6        train\n",
       "Saleh         Toulouse      5          bus\n",
       "Fadilatou     Bordeaux      3      voiture\n",
       "Emese      Montpellier      2  covoiturage"
      ]
     },
     "execution_count": 26,
     "metadata": {},
     "output_type": "execute_result"
    }
   ],
   "source": [
    "# paramètre ascending pour inverser l'ordre\n",
    "df.sort_values([\"duree\"], ascending=False)"
   ]
  },
  {
   "cell_type": "markdown",
   "id": "a053ad97",
   "metadata": {},
   "source": [
    "### 4. Conditions sur les données et sélection basées sur les conditions"
   ]
  },
  {
   "cell_type": "code",
   "execution_count": 27,
   "id": "469ee540",
   "metadata": {},
   "outputs": [
    {
     "data": {
      "text/html": [
       "<div>\n",
       "<style scoped>\n",
       "    .dataframe tbody tr th:only-of-type {\n",
       "        vertical-align: middle;\n",
       "    }\n",
       "\n",
       "    .dataframe tbody tr th {\n",
       "        vertical-align: top;\n",
       "    }\n",
       "\n",
       "    .dataframe thead th {\n",
       "        text-align: right;\n",
       "    }\n",
       "</style>\n",
       "<table border=\"1\" class=\"dataframe\">\n",
       "  <thead>\n",
       "    <tr style=\"text-align: right;\">\n",
       "      <th></th>\n",
       "      <th>destination</th>\n",
       "      <th>duree</th>\n",
       "      <th>transport</th>\n",
       "      <th>court_sejour</th>\n",
       "    </tr>\n",
       "    <tr>\n",
       "      <th>nom</th>\n",
       "      <th></th>\n",
       "      <th></th>\n",
       "      <th></th>\n",
       "      <th></th>\n",
       "    </tr>\n",
       "  </thead>\n",
       "  <tbody>\n",
       "    <tr>\n",
       "      <th>Marwa</th>\n",
       "      <td>Montpellier</td>\n",
       "      <td>10</td>\n",
       "      <td>train</td>\n",
       "      <td>False</td>\n",
       "    </tr>\n",
       "    <tr>\n",
       "      <th>Samy</th>\n",
       "      <td>Paris</td>\n",
       "      <td>7</td>\n",
       "      <td>voiture</td>\n",
       "      <td>False</td>\n",
       "    </tr>\n",
       "    <tr>\n",
       "      <th>Matthis</th>\n",
       "      <td>Bordeaux</td>\n",
       "      <td>12</td>\n",
       "      <td>covoiturage</td>\n",
       "      <td>False</td>\n",
       "    </tr>\n",
       "    <tr>\n",
       "      <th>Saleh</th>\n",
       "      <td>Toulouse</td>\n",
       "      <td>5</td>\n",
       "      <td>bus</td>\n",
       "      <td>True</td>\n",
       "    </tr>\n",
       "    <tr>\n",
       "      <th>Gaëtan</th>\n",
       "      <td>Paris</td>\n",
       "      <td>14</td>\n",
       "      <td>bus</td>\n",
       "      <td>False</td>\n",
       "    </tr>\n",
       "    <tr>\n",
       "      <th>Nabil</th>\n",
       "      <td>Montpellier</td>\n",
       "      <td>6</td>\n",
       "      <td>train</td>\n",
       "      <td>False</td>\n",
       "    </tr>\n",
       "    <tr>\n",
       "      <th>Loïc</th>\n",
       "      <td>Bordeaux</td>\n",
       "      <td>10</td>\n",
       "      <td>covoiturage</td>\n",
       "      <td>False</td>\n",
       "    </tr>\n",
       "    <tr>\n",
       "      <th>Chaima</th>\n",
       "      <td>Paris</td>\n",
       "      <td>11</td>\n",
       "      <td>voiture</td>\n",
       "      <td>False</td>\n",
       "    </tr>\n",
       "    <tr>\n",
       "      <th>Emese</th>\n",
       "      <td>Montpellier</td>\n",
       "      <td>2</td>\n",
       "      <td>covoiturage</td>\n",
       "      <td>True</td>\n",
       "    </tr>\n",
       "    <tr>\n",
       "      <th>Fadilatou</th>\n",
       "      <td>Bordeaux</td>\n",
       "      <td>3</td>\n",
       "      <td>voiture</td>\n",
       "      <td>True</td>\n",
       "    </tr>\n",
       "    <tr>\n",
       "      <th>Thibaud</th>\n",
       "      <td>Paris</td>\n",
       "      <td>10</td>\n",
       "      <td>voiture</td>\n",
       "      <td>False</td>\n",
       "    </tr>\n",
       "    <tr>\n",
       "      <th>Kyrylo</th>\n",
       "      <td>Montpellier</td>\n",
       "      <td>15</td>\n",
       "      <td>voiture</td>\n",
       "      <td>False</td>\n",
       "    </tr>\n",
       "  </tbody>\n",
       "</table>\n",
       "</div>"
      ],
      "text/plain": [
       "           destination  duree    transport  court_sejour\n",
       "nom                                                     \n",
       "Marwa      Montpellier     10        train         False\n",
       "Samy             Paris      7      voiture         False\n",
       "Matthis       Bordeaux     12  covoiturage         False\n",
       "Saleh         Toulouse      5          bus          True\n",
       "Gaëtan           Paris     14          bus         False\n",
       "Nabil      Montpellier      6        train         False\n",
       "Loïc          Bordeaux     10  covoiturage         False\n",
       "Chaima           Paris     11      voiture         False\n",
       "Emese      Montpellier      2  covoiturage          True\n",
       "Fadilatou     Bordeaux      3      voiture          True\n",
       "Thibaud          Paris     10      voiture         False\n",
       "Kyrylo     Montpellier     15      voiture         False"
      ]
     },
     "execution_count": 27,
     "metadata": {},
     "output_type": "execute_result"
    }
   ],
   "source": [
    "# condition sur df[colonne] retourne une Serie de boolean\n",
    "df[\"court_sejour\"] = df[\"duree\"] < 6\n",
    "df"
   ]
  },
  {
   "cell_type": "markdown",
   "id": "49a10444",
   "metadata": {},
   "source": [
    "Sélection des données basées sur des conditions.\n",
    "\n",
    ".loc accepte une Serie de booléens comme paramètres, et récupère les lignes où la valeur est True."
   ]
  },
  {
   "cell_type": "code",
   "execution_count": 28,
   "id": "f5ac3be9",
   "metadata": {},
   "outputs": [
    {
     "data": {
      "text/html": [
       "<div>\n",
       "<style scoped>\n",
       "    .dataframe tbody tr th:only-of-type {\n",
       "        vertical-align: middle;\n",
       "    }\n",
       "\n",
       "    .dataframe tbody tr th {\n",
       "        vertical-align: top;\n",
       "    }\n",
       "\n",
       "    .dataframe thead th {\n",
       "        text-align: right;\n",
       "    }\n",
       "</style>\n",
       "<table border=\"1\" class=\"dataframe\">\n",
       "  <thead>\n",
       "    <tr style=\"text-align: right;\">\n",
       "      <th></th>\n",
       "      <th>destination</th>\n",
       "      <th>duree</th>\n",
       "      <th>transport</th>\n",
       "      <th>court_sejour</th>\n",
       "    </tr>\n",
       "    <tr>\n",
       "      <th>nom</th>\n",
       "      <th></th>\n",
       "      <th></th>\n",
       "      <th></th>\n",
       "      <th></th>\n",
       "    </tr>\n",
       "  </thead>\n",
       "  <tbody>\n",
       "    <tr>\n",
       "      <th>Matthis</th>\n",
       "      <td>Bordeaux</td>\n",
       "      <td>12</td>\n",
       "      <td>covoiturage</td>\n",
       "      <td>False</td>\n",
       "    </tr>\n",
       "    <tr>\n",
       "      <th>Gaëtan</th>\n",
       "      <td>Paris</td>\n",
       "      <td>14</td>\n",
       "      <td>bus</td>\n",
       "      <td>False</td>\n",
       "    </tr>\n",
       "    <tr>\n",
       "      <th>Chaima</th>\n",
       "      <td>Paris</td>\n",
       "      <td>11</td>\n",
       "      <td>voiture</td>\n",
       "      <td>False</td>\n",
       "    </tr>\n",
       "    <tr>\n",
       "      <th>Kyrylo</th>\n",
       "      <td>Montpellier</td>\n",
       "      <td>15</td>\n",
       "      <td>voiture</td>\n",
       "      <td>False</td>\n",
       "    </tr>\n",
       "  </tbody>\n",
       "</table>\n",
       "</div>"
      ],
      "text/plain": [
       "         destination  duree    transport  court_sejour\n",
       "nom                                                   \n",
       "Matthis     Bordeaux     12  covoiturage         False\n",
       "Gaëtan         Paris     14          bus         False\n",
       "Chaima         Paris     11      voiture         False\n",
       "Kyrylo   Montpellier     15      voiture         False"
      ]
     },
     "execution_count": 28,
     "metadata": {},
     "output_type": "execute_result"
    }
   ],
   "source": [
    "# sélection des lignes pour lesquelles la duree > 10 jours\n",
    "df.loc[df['duree'] > 10]"
   ]
  },
  {
   "cell_type": "code",
   "execution_count": 29,
   "id": "2f9e2668",
   "metadata": {},
   "outputs": [
    {
     "data": {
      "text/html": [
       "<div>\n",
       "<style scoped>\n",
       "    .dataframe tbody tr th:only-of-type {\n",
       "        vertical-align: middle;\n",
       "    }\n",
       "\n",
       "    .dataframe tbody tr th {\n",
       "        vertical-align: top;\n",
       "    }\n",
       "\n",
       "    .dataframe thead th {\n",
       "        text-align: right;\n",
       "    }\n",
       "</style>\n",
       "<table border=\"1\" class=\"dataframe\">\n",
       "  <thead>\n",
       "    <tr style=\"text-align: right;\">\n",
       "      <th></th>\n",
       "      <th>destination</th>\n",
       "      <th>duree</th>\n",
       "      <th>transport</th>\n",
       "      <th>court_sejour</th>\n",
       "    </tr>\n",
       "    <tr>\n",
       "      <th>nom</th>\n",
       "      <th></th>\n",
       "      <th></th>\n",
       "      <th></th>\n",
       "      <th></th>\n",
       "    </tr>\n",
       "  </thead>\n",
       "  <tbody>\n",
       "    <tr>\n",
       "      <th>Gaëtan</th>\n",
       "      <td>Paris</td>\n",
       "      <td>14</td>\n",
       "      <td>bus</td>\n",
       "      <td>False</td>\n",
       "    </tr>\n",
       "  </tbody>\n",
       "</table>\n",
       "</div>"
      ],
      "text/plain": [
       "       destination  duree transport  court_sejour\n",
       "nom                                              \n",
       "Gaëtan       Paris     14       bus         False"
      ]
     },
     "execution_count": 29,
     "metadata": {},
     "output_type": "execute_result"
    }
   ],
   "source": [
    "# sélection des lignes pour lesquelles la duree > 10 jours et transport est \"bus\"\n",
    "df.loc[(df[\"duree\"] > 10) & (df[\"transport\"]==\"bus\")]"
   ]
  },
  {
   "cell_type": "markdown",
   "id": "9563f8eb",
   "metadata": {},
   "source": [
    "### 5. Regroupement des valeurs du dataframe\n",
    "\n",
    "Calcul de la somme de la durée pour chacune des destinations."
   ]
  },
  {
   "cell_type": "code",
   "execution_count": 30,
   "id": "a09304e1",
   "metadata": {},
   "outputs": [
    {
     "data": {
      "text/plain": [
       "destination  transport  \n",
       "Bordeaux     covoiturage    22\n",
       "             voiture         3\n",
       "Montpellier  covoiturage     2\n",
       "             train          16\n",
       "             voiture        15\n",
       "Paris        bus            14\n",
       "             voiture        28\n",
       "Toulouse     bus             5\n",
       "Name: duree, dtype: int64"
      ]
     },
     "execution_count": 30,
     "metadata": {},
     "output_type": "execute_result"
    }
   ],
   "source": [
    "df.groupby([\"destination\", \"transport\"])[\"duree\"].sum()"
   ]
  },
  {
   "cell_type": "markdown",
   "id": "89d601f1",
   "metadata": {},
   "source": [
    "### 6. Application d'une fonction aux éléments d'une colonne\n",
    "\n",
    "Transformation de la colonne destination : on enlève les majuscules aux noms des villes.\n",
    "\n",
    "Plusieurs possibilités listées ci-dessous."
   ]
  },
  {
   "cell_type": "code",
   "execution_count": 31,
   "id": "00200710",
   "metadata": {},
   "outputs": [
    {
     "data": {
      "text/plain": [
       "nom\n",
       "Marwa        montpellier\n",
       "Samy               paris\n",
       "Matthis         bordeaux\n",
       "Saleh           toulouse\n",
       "Gaëtan             paris\n",
       "Nabil        montpellier\n",
       "Loïc            bordeaux\n",
       "Chaima             paris\n",
       "Emese        montpellier\n",
       "Fadilatou       bordeaux\n",
       "Thibaud            paris\n",
       "Kyrylo       montpellier\n",
       "Name: destination, dtype: object"
      ]
     },
     "execution_count": 31,
     "metadata": {},
     "output_type": "execute_result"
    }
   ],
   "source": [
    "def minuscule(element):\n",
    "    return element.lower()\n",
    "\n",
    "df[\"destination\"].apply(minuscule)"
   ]
  },
  {
   "cell_type": "code",
   "execution_count": 32,
   "id": "967dc54d",
   "metadata": {},
   "outputs": [
    {
     "data": {
      "text/plain": [
       "nom\n",
       "Marwa        montpellier\n",
       "Samy               paris\n",
       "Matthis         bordeaux\n",
       "Saleh           toulouse\n",
       "Gaëtan             paris\n",
       "Nabil        montpellier\n",
       "Loïc            bordeaux\n",
       "Chaima             paris\n",
       "Emese        montpellier\n",
       "Fadilatou       bordeaux\n",
       "Thibaud            paris\n",
       "Kyrylo       montpellier\n",
       "Name: destination, dtype: object"
      ]
     },
     "execution_count": 32,
     "metadata": {},
     "output_type": "execute_result"
    }
   ],
   "source": [
    "df[\"destination\"].apply(lambda x : x.lower())"
   ]
  },
  {
   "cell_type": "code",
   "execution_count": 33,
   "id": "d9e6c529",
   "metadata": {},
   "outputs": [
    {
     "data": {
      "text/plain": [
       "nom\n",
       "Marwa        montpellier\n",
       "Samy               paris\n",
       "Matthis         bordeaux\n",
       "Saleh           toulouse\n",
       "Gaëtan             paris\n",
       "Nabil        montpellier\n",
       "Loïc            bordeaux\n",
       "Chaima             paris\n",
       "Emese        montpellier\n",
       "Fadilatou       bordeaux\n",
       "Thibaud            paris\n",
       "Kyrylo       montpellier\n",
       "Name: destination, dtype: object"
      ]
     },
     "execution_count": 33,
     "metadata": {},
     "output_type": "execute_result"
    }
   ],
   "source": [
    "df[\"destination\"].str.lower()"
   ]
  },
  {
   "cell_type": "markdown",
   "id": "68fa481a",
   "metadata": {},
   "source": [
    "Modification de la colonne transport.\n",
    "\n",
    "On souhaite \"transport_collectif\" si [\"train\", \"covoiturage\", \"bus\"] et \"transport_individuel\" si \"voiture\"."
   ]
  },
  {
   "cell_type": "code",
   "execution_count": 34,
   "id": "27893651",
   "metadata": {},
   "outputs": [
    {
     "data": {
      "text/html": [
       "<div>\n",
       "<style scoped>\n",
       "    .dataframe tbody tr th:only-of-type {\n",
       "        vertical-align: middle;\n",
       "    }\n",
       "\n",
       "    .dataframe tbody tr th {\n",
       "        vertical-align: top;\n",
       "    }\n",
       "\n",
       "    .dataframe thead th {\n",
       "        text-align: right;\n",
       "    }\n",
       "</style>\n",
       "<table border=\"1\" class=\"dataframe\">\n",
       "  <thead>\n",
       "    <tr style=\"text-align: right;\">\n",
       "      <th></th>\n",
       "      <th>destination</th>\n",
       "      <th>duree</th>\n",
       "      <th>transport</th>\n",
       "      <th>court_sejour</th>\n",
       "    </tr>\n",
       "    <tr>\n",
       "      <th>nom</th>\n",
       "      <th></th>\n",
       "      <th></th>\n",
       "      <th></th>\n",
       "      <th></th>\n",
       "    </tr>\n",
       "  </thead>\n",
       "  <tbody>\n",
       "    <tr>\n",
       "      <th>Marwa</th>\n",
       "      <td>Montpellier</td>\n",
       "      <td>10</td>\n",
       "      <td>transport_collectif</td>\n",
       "      <td>False</td>\n",
       "    </tr>\n",
       "    <tr>\n",
       "      <th>Samy</th>\n",
       "      <td>Paris</td>\n",
       "      <td>7</td>\n",
       "      <td>transport_individuel</td>\n",
       "      <td>False</td>\n",
       "    </tr>\n",
       "    <tr>\n",
       "      <th>Matthis</th>\n",
       "      <td>Bordeaux</td>\n",
       "      <td>12</td>\n",
       "      <td>transport_collectif</td>\n",
       "      <td>False</td>\n",
       "    </tr>\n",
       "    <tr>\n",
       "      <th>Saleh</th>\n",
       "      <td>Toulouse</td>\n",
       "      <td>5</td>\n",
       "      <td>transport_collectif</td>\n",
       "      <td>True</td>\n",
       "    </tr>\n",
       "    <tr>\n",
       "      <th>Gaëtan</th>\n",
       "      <td>Paris</td>\n",
       "      <td>14</td>\n",
       "      <td>transport_collectif</td>\n",
       "      <td>False</td>\n",
       "    </tr>\n",
       "    <tr>\n",
       "      <th>Nabil</th>\n",
       "      <td>Montpellier</td>\n",
       "      <td>6</td>\n",
       "      <td>transport_collectif</td>\n",
       "      <td>False</td>\n",
       "    </tr>\n",
       "    <tr>\n",
       "      <th>Loïc</th>\n",
       "      <td>Bordeaux</td>\n",
       "      <td>10</td>\n",
       "      <td>transport_collectif</td>\n",
       "      <td>False</td>\n",
       "    </tr>\n",
       "    <tr>\n",
       "      <th>Chaima</th>\n",
       "      <td>Paris</td>\n",
       "      <td>11</td>\n",
       "      <td>transport_individuel</td>\n",
       "      <td>False</td>\n",
       "    </tr>\n",
       "    <tr>\n",
       "      <th>Emese</th>\n",
       "      <td>Montpellier</td>\n",
       "      <td>2</td>\n",
       "      <td>transport_collectif</td>\n",
       "      <td>True</td>\n",
       "    </tr>\n",
       "    <tr>\n",
       "      <th>Fadilatou</th>\n",
       "      <td>Bordeaux</td>\n",
       "      <td>3</td>\n",
       "      <td>transport_individuel</td>\n",
       "      <td>True</td>\n",
       "    </tr>\n",
       "    <tr>\n",
       "      <th>Thibaud</th>\n",
       "      <td>Paris</td>\n",
       "      <td>10</td>\n",
       "      <td>transport_individuel</td>\n",
       "      <td>False</td>\n",
       "    </tr>\n",
       "    <tr>\n",
       "      <th>Kyrylo</th>\n",
       "      <td>Montpellier</td>\n",
       "      <td>15</td>\n",
       "      <td>transport_individuel</td>\n",
       "      <td>False</td>\n",
       "    </tr>\n",
       "  </tbody>\n",
       "</table>\n",
       "</div>"
      ],
      "text/plain": [
       "           destination  duree             transport  court_sejour\n",
       "nom                                                              \n",
       "Marwa      Montpellier     10   transport_collectif         False\n",
       "Samy             Paris      7  transport_individuel         False\n",
       "Matthis       Bordeaux     12   transport_collectif         False\n",
       "Saleh         Toulouse      5   transport_collectif          True\n",
       "Gaëtan           Paris     14   transport_collectif         False\n",
       "Nabil      Montpellier      6   transport_collectif         False\n",
       "Loïc          Bordeaux     10   transport_collectif         False\n",
       "Chaima           Paris     11  transport_individuel         False\n",
       "Emese      Montpellier      2   transport_collectif          True\n",
       "Fadilatou     Bordeaux      3  transport_individuel          True\n",
       "Thibaud          Paris     10  transport_individuel         False\n",
       "Kyrylo     Montpellier     15  transport_individuel         False"
      ]
     },
     "execution_count": 34,
     "metadata": {},
     "output_type": "execute_result"
    }
   ],
   "source": [
    "def transport(element):\n",
    "    if element in [\"train\", \"covoiturage\", \"bus\"]:\n",
    "        return \"transport_collectif\"\n",
    "    else:\n",
    "        return \"transport_individuel\"\n",
    "    \n",
    "df[\"transport\"] = df[\"transport\"].apply(transport)\n",
    "df"
   ]
  }
 ],
 "metadata": {
  "kernelspec": {
   "display_name": "testenv",
   "language": "python",
   "name": "python3"
  },
  "language_info": {
   "codemirror_mode": {
    "name": "ipython",
    "version": 3
   },
   "file_extension": ".py",
   "mimetype": "text/x-python",
   "name": "python",
   "nbconvert_exporter": "python",
   "pygments_lexer": "ipython3",
   "version": "3.13.5"
  }
 },
 "nbformat": 4,
 "nbformat_minor": 5
}
